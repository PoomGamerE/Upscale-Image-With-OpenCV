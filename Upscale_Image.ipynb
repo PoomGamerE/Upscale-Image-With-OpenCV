{
  "nbformat": 4,
  "nbformat_minor": 0,
  "metadata": {
    "colab": {
      "name": "Upscale Image.ipynb",
      "provenance": [],
      "include_colab_link": true
    },
    "kernelspec": {
      "name": "python3",
      "display_name": "Python 3"
    }
  },
  "cells": [
    {
      "cell_type": "markdown",
      "metadata": {
        "id": "view-in-github",
        "colab_type": "text"
      },
      "source": [
        "<a href=\"https://colab.research.google.com/github/PoomGamerE/Upscale-Image-With-OpenCV/blob/main/Upscale_Image.ipynb\" target=\"_parent\"><img src=\"https://colab.research.google.com/assets/colab-badge.svg\" alt=\"Open In Colab\"/></a>"
      ]
    },
    {
      "cell_type": "markdown",
      "metadata": {
        "id": "AiO9AON63U9N"
      },
      "source": [
        "# Upscale Image ทำให้รูปภาพชัดขึ้น\n",
        "---"
      ]
    },
    {
      "cell_type": "markdown",
      "metadata": {
        "id": "5-DRO9yP3wcq"
      },
      "source": [
        "## Settings ส่วนของการตั้งค่า\n",
        "\n",
        "\n"
      ]
    },
    {
      "cell_type": "markdown",
      "metadata": {
        "id": "4kZ1_ejzpvO0"
      },
      "source": [
        "> #### Google Drive Permission ส่วนของการอนุญาตการเข้าถึงกูเกิลไดร์ฟ\n",
        "\n"
      ]
    },
    {
      "cell_type": "code",
      "metadata": {
        "id": "wcW_7vXsp9Fx"
      },
      "source": [
        "from google.colab import drive\n",
        "drive.mount('/content/drive')"
      ],
      "execution_count": null,
      "outputs": []
    },
    {
      "cell_type": "code",
      "metadata": {
        "id": "b5Wdlc5uqA7f"
      },
      "source": [
        "!ls \"/content/drive/My Drive\""
      ],
      "execution_count": null,
      "outputs": []
    },
    {
      "cell_type": "code",
      "metadata": {
        "id": "9KEHn35hqFlJ"
      },
      "source": [
        "%cd /content/drive/My Drive"
      ],
      "execution_count": null,
      "outputs": []
    },
    {
      "cell_type": "markdown",
      "metadata": {
        "id": "BZckq-Gih0vx"
      },
      "source": [
        "> #### OpenCV Checker ส่วนเช็คการมองเห็นของคอมพิวเตอร์"
      ]
    },
    {
      "cell_type": "code",
      "metadata": {
        "id": "PW_MO5Ryhw9P"
      },
      "source": [
        "import cv2\n",
        "cv2.__version__"
      ],
      "execution_count": null,
      "outputs": []
    },
    {
      "cell_type": "code",
      "metadata": {
        "id": "s8XyYzPqyVN5"
      },
      "source": [
        "!pip install opencv-python==4.4.0.40\n",
        "!pip install opencv-contrib-python==4.4.0.40"
      ],
      "execution_count": null,
      "outputs": []
    },
    {
      "cell_type": "markdown",
      "metadata": {
        "id": "NA0p2aGzi7YV"
      },
      "source": [
        "> #### Clone model from Git โคลนโมเดลสำหรับใช้แก้ไขภาพจากกิต\n",
        "\n"
      ]
    },
    {
      "cell_type": "code",
      "metadata": {
        "id": "XvkoClIVjBT7"
      },
      "source": [
        "%cd /content\n",
        "!git clone https://github.com/Saafke/EDSR_Tensorflow.git"
      ],
      "execution_count": null,
      "outputs": []
    },
    {
      "cell_type": "markdown",
      "metadata": {
        "id": "-rqjqh6cq6Bg"
      },
      "source": [
        "## Code upscale Image ส่วนของโปรแกรมสำหรับใช้ทำให้ภาพชัดขึ้น\n",
        "---\n",
        "\n"
      ]
    },
    {
      "cell_type": "markdown",
      "metadata": {
        "id": "YAGOck5E5i5Q"
      },
      "source": [
        "ส่วนของการกรอกข้อมูล *โปรดใช้เฉพาะภาษาอังกฤษ"
      ]
    },
    {
      "cell_type": "code",
      "metadata": {
        "id": "HLNUhXAQ5fP-"
      },
      "source": [
        "image_name = 'file image name.png'  #@param {type: \"string\"}"
      ],
      "execution_count": null,
      "outputs": []
    },
    {
      "cell_type": "markdown",
      "metadata": {
        "id": "W-VVx-LA5oYj"
      },
      "source": [
        "ส่วนของการแปลงภาพให้ชัดขึ้น *หากไม่เชี่ยวชาญโปรดอย่าแก้ไขส่วนนี้"
      ]
    },
    {
      "cell_type": "code",
      "metadata": {
        "id": "WdYfXdqSrCnj"
      },
      "source": [
        "%cd /content/drive/My Drive"
      ],
      "execution_count": null,
      "outputs": []
    },
    {
      "cell_type": "code",
      "metadata": {
        "id": "AbpB289skaXV"
      },
      "source": [
        "import cv2\n",
        "cv2.__version__"
      ],
      "execution_count": null,
      "outputs": []
    },
    {
      "cell_type": "code",
      "metadata": {
        "id": "XRj5M8tbrl0M"
      },
      "source": [
        "import cv2\n",
        "from cv2 import dnn_superres\n",
        "\n",
        "\n",
        "# Create an SR object\n",
        "sr = dnn_superres.DnnSuperResImpl_create()\n",
        "\n",
        "# Read image\n",
        "image = cv2.imread(image_name)\n",
        "\n",
        "# Read the desired model\n",
        "path = \"/content/EDSR_Tensorflow/models/EDSR_x3.pb\"\n",
        "sr.readModel(path)\n",
        "\n",
        "# Set the desired model and scale to get correct pre- and post-processing\n",
        "sr.setModel(\"edsr\", 3)\n",
        "\n",
        "# Upscale the image\n",
        "result = sr.upsample(image)\n",
        "\n",
        "# Save the image\n",
        "cv2.imwrite(\"./upscaled.png\", result)"
      ],
      "execution_count": null,
      "outputs": []
    }
  ]
}